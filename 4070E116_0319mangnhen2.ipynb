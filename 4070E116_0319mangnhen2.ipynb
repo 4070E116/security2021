{
  "nbformat": 4,
  "nbformat_minor": 0,
  "metadata": {
    "colab": {
      "name": "4070E116_0319mangnhen2.ipynb",
      "provenance": [],
      "collapsed_sections": [],
      "include_colab_link": true
    },
    "kernelspec": {
      "name": "python3",
      "display_name": "Python 3"
    }
  },
  "cells": [
    {
      "cell_type": "markdown",
      "metadata": {
        "id": "view-in-github",
        "colab_type": "text"
      },
      "source": [
        "<a href=\"https://colab.research.google.com/github/4070E116/security2021/blob/main/4070E116_0319mangnhen2.ipynb\" target=\"_parent\"><img src=\"https://colab.research.google.com/assets/colab-badge.svg\" alt=\"Open In Colab\"/></a>"
      ]
    },
    {
      "cell_type": "code",
      "metadata": {
        "colab": {
          "base_uri": "https://localhost:8080/"
        },
        "id": "XF13ja0dVDZc",
        "outputId": "a0d0fbfd-c7d5-41fb-f2bc-8530c0333c1f"
      },
      "source": [
        "import requests\n",
        "from bs4 import BeautifulSoup\n",
        "\n",
        "\n",
        "resp = requests.get('http://jwlin.github.io/py-scraping-analysis-book/ch2/blog/blog.html')\n",
        "soup = BeautifulSoup(resp.text, 'html.parser')\n",
        "print(soup.find('h4').text)"
      ],
      "execution_count": null,
      "outputs": [
        {
          "output_type": "stream",
          "text": [
            "\n",
            "Mac使用者\n",
            "\n"
          ],
          "name": "stdout"
        }
      ]
    },
    {
      "cell_type": "markdown",
      "metadata": {
        "id": "v66yjyW5VWaG"
      },
      "source": [
        ""
      ]
    },
    {
      "cell_type": "markdown",
      "metadata": {
        "id": "TwVxspSsjJhF"
      },
      "source": [
        "import requests  ==> load requests module\n",
        "\n",
        "from bs4 import BeautifulSoup ==> load BeautifulSoup module\n",
        "\n",
        "requests.get('http://jwlin.github.io/py-scraping-analysis-book/ch2/blog/blog.html')\n",
        "\n",
        "==> use get() method to download web page \n",
        "\n",
        "==> requests.get('url')\n",
        "\n",
        "==> get a response(resp)\n",
        "\n",
        "==>  resp.text === html code\n",
        "\n",
        "解析html語法==> 使用BeautifulSoup\n",
        "\n",
        "格式 ==> BeautifulSoup(resp.text[下載的檔案], 'html.parser[解析器]')\n",
        "\n",
        "soup.find('h4') ==> 找出解析後的檔案你要的部分"
      ]
    },
    {
      "cell_type": "markdown",
      "metadata": {
        "id": "uGxy-DtCi6NW"
      },
      "source": [
        ""
      ]
    }
  ]
}