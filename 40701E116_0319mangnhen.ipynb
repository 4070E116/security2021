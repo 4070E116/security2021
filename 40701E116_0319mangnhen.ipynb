{
  "nbformat": 4,
  "nbformat_minor": 0,
  "metadata": {
    "colab": {
      "name": "40701E116_0319mangnhen.ipynb",
      "provenance": [],
      "collapsed_sections": [],
      "include_colab_link": true
    },
    "kernelspec": {
      "name": "python3",
      "display_name": "Python 3"
    }
  },
  "cells": [
    {
      "cell_type": "markdown",
      "metadata": {
        "id": "view-in-github",
        "colab_type": "text"
      },
      "source": [
        "<a href=\"https://colab.research.google.com/github/4070E116/security2021/blob/main/40701E116_0319mangnhen.ipynb\" target=\"_parent\"><img src=\"https://colab.research.google.com/assets/colab-badge.svg\" alt=\"Open In Colab\"/></a>"
      ]
    },
    {
      "cell_type": "code",
      "metadata": {
        "colab": {
          "base_uri": "https://localhost:8080/"
        },
        "id": "dI9xpd09M96x",
        "outputId": "135c2002-301b-40da-ca7a-9e66b8befdaf"
      },
      "source": [
        "import requests   \n",
        "from bs4 import BeautifulSoup\n",
        "\n",
        "resp = requests.get('https://jwlin.github.io/py-scraping-analysis-book/ch1/connect.html')\n",
        "soup = BeautifulSoup(resp.text, 'html.parser')\n",
        "print(soup.find('h1').text)"
      ],
      "execution_count": null,
      "outputs": [
        {
          "output_type": "stream",
          "text": [
            "歡迎來到 Pycone 松果城市！\n"
          ],
          "name": "stdout"
        }
      ]
    },
    {
      "cell_type": "markdown",
      "metadata": {
        "id": "bQJcmptKNRnV"
      },
      "source": [
        "import requests  ==> load requests module\n",
        "\n",
        "from bs4 import BeautifulSoup ==> load BeautifulSoup module\n",
        "\n",
        "requests.get('https://jwlin.github.io/py-scraping-analysis-book/ch1/connect.html')\n",
        "\n",
        "==> use get() method to download web page \n",
        "\n",
        "==> requests.get('url')\n",
        "\n",
        "==> get a response(resp)\n",
        "\n",
        "==>  resp.text === html code\n",
        "\n",
        "解析html語法==> 使用BeautifulSoup\n",
        "\n",
        "格式 ==> BeautifulSoup(resp.text[下載的檔案], 'html.parser[解析器]')\n",
        "\n",
        "soup.find('h1') ==> 找出解析後的檔案你要的部分"
      ]
    }
  ]
}